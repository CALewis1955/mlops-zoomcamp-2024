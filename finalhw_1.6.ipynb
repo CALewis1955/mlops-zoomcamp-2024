{
 "cells": [
  {
   "cell_type": "code",
   "execution_count": 1,
   "id": "11d41caa-5bf7-4781-80ac-6f3e7b026c70",
   "metadata": {},
   "outputs": [],
   "source": [
    "import pandas as pd"
   ]
  },
  {
   "cell_type": "code",
   "execution_count": 2,
   "id": "3765c869-eadb-49c2-ba18-5cf93846be71",
   "metadata": {},
   "outputs": [
    {
     "name": "stderr",
     "output_type": "stream",
     "text": [
      "<frozen importlib._bootstrap>:228: RuntimeWarning: pyarrow.lib.IpcWriteOptions size changed, may indicate binary incompatibility. Expected 72 from C header, got 88 from PyObject\n",
      "<frozen importlib._bootstrap>:228: RuntimeWarning: pyarrow.lib.IpcReadOptions size changed, may indicate binary incompatibility. Expected 96 from C header, got 104 from PyObject\n"
     ]
    }
   ],
   "source": [
    "df_train = pd.read_parquet('yellow_tripdata_2023-01.parquet')\n",
    "df_val = pd.read_parquet('yellow_tripdata_2023-02.parquet')"
   ]
  },
  {
   "cell_type": "code",
   "execution_count": 3,
   "id": "1f8a11b0",
   "metadata": {},
   "outputs": [
    {
     "name": "stdout",
     "output_type": "stream",
     "text": [
      "Q1. The number of columns is:  19\n"
     ]
    }
   ],
   "source": [
    "df_hw = df_train.copy()\n",
    "print(f'Q1. The number of columns is:  {len(df_hw.columns)}')"
   ]
  },
  {
   "cell_type": "code",
   "execution_count": 4,
   "id": "ad2ad372",
   "metadata": {},
   "outputs": [
    {
     "name": "stdout",
     "output_type": "stream",
     "text": [
      "Q2. The standard deviation of the trips in January is: 42.594351241920904\n"
     ]
    }
   ],
   "source": [
    "df_hw['duration'] = df_hw.tpep_dropoff_datetime - df_hw.tpep_pickup_datetime\n",
    "df_hw.duration = df_hw.duration.apply(lambda td: td.total_seconds() / 60)\n",
    "print(f'Q2. The standard deviation of the trips in January is: {df_hw.duration.std()}')"
   ]
  },
  {
   "cell_type": "code",
   "execution_count": 5,
   "id": "5b959705",
   "metadata": {},
   "outputs": [
    {
     "name": "stdout",
     "output_type": "stream",
     "text": [
      "Q3. The fraction of the number of trips left is:  0.9812202822125979.\n"
     ]
    }
   ],
   "source": [
    "filtered = df_hw[(df_hw.duration >= 1) & (df_hw.duration <= 60)]\n",
    "print(f'Q3. The fraction of the number of trips left is:  {len(filtered)/len(df_hw)}.')"
   ]
  },
  {
   "cell_type": "code",
   "execution_count": 18,
   "id": "a17df043",
   "metadata": {},
   "outputs": [
    {
     "name": "stdout",
     "output_type": "stream",
     "text": [
      "Q4. The number of columns after one-hot encoding is: 518.\n"
     ]
    }
   ],
   "source": [
    "categorical = ['PULocationID', 'DOLocationID']\n",
    "df_hw[categorical] = df_hw[categorical].astype(str)\n",
    "training_dicts = df_hw[categorical].to_dict(orient='records')\n",
    "from sklearn.feature_extraction import DictVectorizer\n",
    "dv = DictVectorizer()\n",
    "X_training = dv.fit_transform(training_dicts)\n",
    "print(f'Q4. The number of columns after one-hot encoding is: {X_training.shape[1]}.')"
   ]
  },
  {
   "cell_type": "code",
   "execution_count": 7,
   "id": "e158f0bd-2612-4bc6-995d-056faff5e84e",
   "metadata": {},
   "outputs": [
    {
     "data": {
      "text/plain": [
       "VendorID                          int64\n",
       "tpep_pickup_datetime     datetime64[ns]\n",
       "tpep_dropoff_datetime    datetime64[ns]\n",
       "passenger_count                 float64\n",
       "trip_distance                   float64\n",
       "RatecodeID                      float64\n",
       "store_and_fwd_flag               object\n",
       "PULocationID                      int64\n",
       "DOLocationID                      int64\n",
       "payment_type                      int64\n",
       "fare_amount                     float64\n",
       "extra                           float64\n",
       "mta_tax                         float64\n",
       "tip_amount                      float64\n",
       "tolls_amount                    float64\n",
       "improvement_surcharge           float64\n",
       "total_amount                    float64\n",
       "congestion_surcharge            float64\n",
       "airport_fee                     float64\n",
       "dtype: object"
      ]
     },
     "execution_count": 7,
     "metadata": {},
     "output_type": "execute_result"
    }
   ],
   "source": [
    "df_train.dtypes"
   ]
  },
  {
   "cell_type": "code",
   "execution_count": 8,
   "id": "e9843720-60a4-4524-a43c-6b7f7a042d77",
   "metadata": {},
   "outputs": [],
   "source": [
    "def preprocess(df):\n",
    "    df['duration'] = df.tpep_dropoff_datetime - df.tpep_pickup_datetime\n",
    "    df.duration = df.duration.apply(lambda td: td.total_seconds() / 60)\n",
    "    df = df[df.duration >= 1]\n",
    "    df = df[df.duration <= 60]\n",
    "    return df"
   ]
  },
  {
   "cell_type": "code",
   "execution_count": 9,
   "id": "6f2a8c2f-35ad-4961-8383-246748df5aa3",
   "metadata": {},
   "outputs": [],
   "source": [
    "df_train = preprocess(df_train)"
   ]
  },
  {
   "cell_type": "code",
   "execution_count": 10,
   "id": "4eb5e88c-0dc2-427e-927f-6d034d3b10b5",
   "metadata": {},
   "outputs": [],
   "source": [
    "df_val = preprocess(df_val)"
   ]
  },
  {
   "cell_type": "code",
   "execution_count": 11,
   "id": "850b75c5-bd7a-421a-87cc-67a58a27767a",
   "metadata": {},
   "outputs": [],
   "source": [
    "categorical = ['PULocationID', 'DOLocationID']\n",
    "df_train[categorical] = df_train[categorical].astype(str)\n",
    "df_val[categorical] = df_val[categorical].astype(str)"
   ]
  },
  {
   "cell_type": "code",
   "execution_count": 12,
   "id": "309a31cb-2ca0-44f8-934b-98109e5ec1fb",
   "metadata": {},
   "outputs": [],
   "source": [
    "train_dicts = df_train[categorical].to_dict(orient='records')"
   ]
  },
  {
   "cell_type": "code",
   "execution_count": 13,
   "id": "3b1316b7-7401-42fd-a83b-d3528e09153f",
   "metadata": {},
   "outputs": [],
   "source": [
    "val_dicts = df_val[categorical].to_dict(orient='records')"
   ]
  },
  {
   "cell_type": "code",
   "execution_count": 14,
   "id": "3ff8242d-853c-4013-a5c7-cfa146f2e58d",
   "metadata": {},
   "outputs": [],
   "source": [
    "from sklearn.linear_model import LinearRegression\n",
    "from sklearn.metrics import mean_squared_error"
   ]
  },
  {
   "cell_type": "code",
   "execution_count": 15,
   "id": "5d4ec6d1-bb28-4e51-b8c4-e6463109709f",
   "metadata": {},
   "outputs": [
    {
     "name": "stdout",
     "output_type": "stream",
     "text": [
      "Q5. This is the root mean squared error for the training set: 7.64926180044339\n",
      "Q6. This is the root mean squared error for the validation set: 7.8118236307935\n"
     ]
    }
   ],
   "source": [
    "X_train = dv.fit_transform(train_dicts)\n",
    "X_val = dv.transform(val_dicts)\n",
    "target = 'duration'\n",
    "y_train = df_train[target].values\n",
    "y_val = df_val[target].values\n",
    "lr = LinearRegression()\n",
    "lr.fit(X_train, y_train)\n",
    "y_pred = lr.predict(X_train)\n",
    "rmse = mean_squared_error(y_train, y_pred, squared=False)\n",
    "print(f'Q5. This is the root mean squared error for the training set: {rmse}')\n",
    "val_pred = lr.predict(X_val)\n",
    "\n",
    "val_rmse = mean_squared_error(y_val, val_pred, squared=False)\n",
    "print(f'Q6. This is the root mean squared error for the validation set: {val_rmse}')"
   ]
  },
  {
   "cell_type": "code",
   "execution_count": 17,
   "id": "c2027d5f-a41f-401f-966a-74e54da112e4",
   "metadata": {},
   "outputs": [
    {
     "name": "stdout",
     "output_type": "stream",
     "text": [
      "Python 3.9.18\n"
     ]
    }
   ],
   "source": [
    "! python --version"
   ]
  },
  {
   "cell_type": "code",
   "execution_count": null,
   "id": "1103d714-9c65-47b5-825b-2edba24a87f0",
   "metadata": {},
   "outputs": [],
   "source": []
  },
  {
   "cell_type": "raw",
   "id": "65191035-2910-4ed0-996c-9d7cbed91332",
   "metadata": {
    "vscode": {
     "languageId": "raw"
    }
   },
   "source": []
  },
  {
   "cell_type": "code",
   "execution_count": null,
   "id": "d3dd1083-86ab-4db1-939f-721131c63678",
   "metadata": {},
   "outputs": [],
   "source": []
  },
  {
   "cell_type": "code",
   "execution_count": null,
   "id": "827b9ad9-f9ad-4abd-b64e-1584910b20e4",
   "metadata": {},
   "outputs": [],
   "source": []
  }
 ],
 "metadata": {
  "kernelspec": {
   "display_name": "Python 3 (ipykernel)",
   "language": "python",
   "name": "python3"
  },
  "language_info": {
   "codemirror_mode": {
    "name": "ipython",
    "version": 3
   },
   "file_extension": ".py",
   "mimetype": "text/x-python",
   "name": "python",
   "nbconvert_exporter": "python",
   "pygments_lexer": "ipython3",
   "version": "3.9.18"
  }
 },
 "nbformat": 4,
 "nbformat_minor": 5
}
